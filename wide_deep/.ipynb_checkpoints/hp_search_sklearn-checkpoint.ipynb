{
 "cells": [
  {
   "cell_type": "code",
   "execution_count": 2,
   "metadata": {
    "pycharm": {
     "is_executing": false
    }
   },
   "outputs": [
    {
     "name": "stdout",
     "output_type": "stream",
     "text": [
      "2.0.0-beta0\n",
      "sys.version_info(major=3, minor=7, micro=0, releaselevel='final', serial=0)\n",
      "matplotlib 3.0.3\n",
      "numpy 1.16.0\n",
      "pandas 0.24.2\n",
      "sklearn 0.21.3\n",
      "tensorflow 2.0.0-beta0\n",
      "tensorflow.python.keras.api._v2.keras 2.2.4-tf\n"
     ]
    }
   ],
   "source": [
    "import matplotlib.pyplot as plt\n",
    "import matplotlib as mpl\n",
    "import numpy as np\n",
    "import sklearn\n",
    "import pandas as pd\n",
    "import os\n",
    "import sys\n",
    "import time\n",
    "import tensorflow as tf\n",
    "from tensorflow import keras\n",
    "print(tf.__version__)\n",
    "print(sys.version_info)\n",
    "for module in mpl,np,pd,sklearn,tf,keras:\n",
    "    print(module.__name__,module.__version__)"
   ]
  },
  {
   "cell_type": "code",
   "execution_count": 3,
   "metadata": {
    "pycharm": {
     "is_executing": false,
     "name": "#%%\n"
    }
   },
   "outputs": [
    {
     "name": "stdout",
     "output_type": "stream",
     "text": [
      ".. _california_housing_dataset:\n",
      "\n",
      "California Housing dataset\n",
      "--------------------------\n",
      "\n",
      "**Data Set Characteristics:**\n",
      "\n",
      "    :Number of Instances: 20640\n",
      "\n",
      "    :Number of Attributes: 8 numeric, predictive attributes and the target\n",
      "\n",
      "    :Attribute Information:\n",
      "        - MedInc        median income in block\n",
      "        - HouseAge      median house age in block\n",
      "        - AveRooms      average number of rooms\n",
      "        - AveBedrms     average number of bedrooms\n",
      "        - Population    block population\n",
      "        - AveOccup      average house occupancy\n",
      "        - Latitude      house block latitude\n",
      "        - Longitude     house block longitude\n",
      "\n",
      "    :Missing Attribute Values: None\n",
      "\n",
      "This dataset was obtained from the StatLib repository.\n",
      "http://lib.stat.cmu.edu/datasets/\n",
      "\n",
      "The target variable is the median house value for California districts.\n",
      "\n",
      "This dataset was derived from the 1990 U.S. census, using one row per census\n",
      "block group. A block group is the smallest geographical unit for which the U.S.\n",
      "Census Bureau publishes sample data (a block group typically has a population\n",
      "of 600 to 3,000 people).\n",
      "\n",
      "It can be downloaded/loaded using the\n",
      ":func:`sklearn.datasets.fetch_california_housing` function.\n",
      "\n",
      ".. topic:: References\n",
      "\n",
      "    - Pace, R. Kelley and Ronald Barry, Sparse Spatial Autoregressions,\n",
      "      Statistics and Probability Letters, 33 (1997) 291-297\n",
      "\n",
      "(20640, 8)\n",
      "(20640,)\n"
     ]
    }
   ],
   "source": [
    "from sklearn.datasets import fetch_california_housing\n",
    "housing = fetch_california_housing()\n",
    "print(housing.DESCR)\n",
    "print(housing.data.shape)\n",
    "print(housing.target.shape)"
   ]
  },
  {
   "cell_type": "code",
   "execution_count": 4,
   "metadata": {
    "pycharm": {
     "is_executing": false,
     "name": "#%%\n"
    }
   },
   "outputs": [
    {
     "name": "stdout",
     "output_type": "stream",
     "text": [
      "array([[ 8.32520000e+00,  4.10000000e+01,  6.98412698e+00,\n",
      "         1.02380952e+00,  3.22000000e+02,  2.55555556e+00,\n",
      "         3.78800000e+01, -1.22230000e+02],\n",
      "       [ 8.30140000e+00,  2.10000000e+01,  6.23813708e+00,\n",
      "         9.71880492e-01,  2.40100000e+03,  2.10984183e+00,\n",
      "         3.78600000e+01, -1.22220000e+02],\n",
      "       [ 7.25740000e+00,  5.20000000e+01,  8.28813559e+00,\n",
      "         1.07344633e+00,  4.96000000e+02,  2.80225989e+00,\n",
      "         3.78500000e+01, -1.22240000e+02],\n",
      "       [ 5.64310000e+00,  5.20000000e+01,  5.81735160e+00,\n",
      "         1.07305936e+00,  5.58000000e+02,  2.54794521e+00,\n",
      "         3.78500000e+01, -1.22250000e+02],\n",
      "       [ 3.84620000e+00,  5.20000000e+01,  6.28185328e+00,\n",
      "         1.08108108e+00,  5.65000000e+02,  2.18146718e+00,\n",
      "         3.78500000e+01, -1.22250000e+02]])\n",
      "array([4.526, 3.585, 3.521, 3.413, 3.422])\n"
     ]
    }
   ],
   "source": [
    "import pprint\n",
    "pprint.pprint(housing.data[0:5])\n",
    "pprint.pprint(housing.target[0:5])\n",
    "\n"
   ]
  },
  {
   "cell_type": "code",
   "execution_count": 5,
   "metadata": {
    "pycharm": {
     "is_executing": false,
     "name": "#%%\n"
    }
   },
   "outputs": [],
   "source": [
    "from sklearn.model_selection import train_test_split\n",
    "x_train_all,x_test,y_train_all,y_test = train_test_split(housing.data,housing.target,random_state=7)\n",
    "x_train,x_valid,y_train,y_valid = train_test_split(housing.data,housing.target,random_state=7)\n"
   ]
  },
  {
   "cell_type": "code",
   "execution_count": 6,
   "metadata": {
    "pycharm": {
     "is_executing": false,
     "name": "#%%\n"
    }
   },
   "outputs": [],
   "source": [
    "from sklearn.preprocessing import StandardScaler\n",
    "std = StandardScaler()\n",
    "x_train_std = std.fit_transform(x_train)\n",
    "x_test_std = std.transform(x_test)\n",
    "x_valid_std = std.transform(x_valid)\n",
    "\n"
   ]
  },
  {
   "cell_type": "code",
   "execution_count": 7,
   "metadata": {
    "pycharm": {
     "is_executing": false,
     "name": "#%%\n"
    }
   },
   "outputs": [
    {
     "name": "stdout",
     "output_type": "stream",
     "text": [
      "Train on 15480 samples, validate on 5160 samples\n",
      "Epoch 1/10\n",
      "15480/15480 [==============================] - 0s 26us/sample - loss: 1.1778 - val_loss: 1.2153\n",
      "Epoch 2/10\n",
      "15480/15480 [==============================] - 0s 20us/sample - loss: 0.6470 - val_loss: 0.6587\n",
      "Epoch 3/10\n",
      "15480/15480 [==============================] - 0s 20us/sample - loss: 0.5501 - val_loss: 0.5373\n",
      "Epoch 4/10\n",
      "15480/15480 [==============================] - 0s 20us/sample - loss: 0.5140 - val_loss: 0.5486\n",
      "Epoch 5/10\n",
      "15480/15480 [==============================] - 0s 20us/sample - loss: 0.4858 - val_loss: 0.4896\n",
      "Epoch 6/10\n",
      "15480/15480 [==============================] - 0s 20us/sample - loss: 0.4741 - val_loss: 0.5126\n",
      "Epoch 7/10\n",
      "15480/15480 [==============================] - 0s 20us/sample - loss: 0.4674 - val_loss: 0.5828\n",
      "Epoch 8/10\n",
      "15480/15480 [==============================] - 0s 20us/sample - loss: 0.4567 - val_loss: 0.4899\n",
      "Epoch 9/10\n",
      "15480/15480 [==============================] - 0s 19us/sample - loss: 0.4415 - val_loss: 0.4812\n",
      "Epoch 10/10\n",
      "15480/15480 [==============================] - 0s 21us/sample - loss: 0.4430 - val_loss: 0.4457\n"
     ]
    }
   ],
   "source": [
    "# 1.转化为sklean的model\n",
    "# 2.定义参数集合\n",
    "# 3.搜索参数 \n",
    "\n",
    "\"\"\"创建模型的函数\"\"\"\n",
    "def build_model(hidden_layers = 1,\n",
    "                layer_size = 30,            \n",
    "                learning_rate = 3e-3):\n",
    "    \n",
    "    \n",
    "    model = keras.models.Sequential()\n",
    "    model.add(keras.layers.Dense(layer_size,activation=\"relu\",\n",
    "                                 input_shape=x_train.shape[1:]))\n",
    "    \n",
    "    # model.add(keras.layers.Dense(layer_size, activation='relu',\n",
    "    #                          input_shape=x_train.shape[1:]))\n",
    "    \n",
    "    for _ in range(hidden_layers-1):\n",
    "        model.add(keras.layers.Dense(layer_size=layer_size,activation=\"relu\"))\n",
    "                \n",
    "    model.add(keras.layers.Dense(1))\n",
    "    optimizer = keras.optimizers.SGD(learning_rate)\n",
    "    model.compile(loss='mse',optimizer=optimizer)\n",
    "    return model\n",
    "callbacks = [keras.callbacks.EarlyStopping(patience=5,min_delta=1e-2)]\n",
    "\n",
    "# callbacks = [keras.callbacks.EarlyStopping(patience=5,min_delta=1e-2)]\n",
    "sklearn_model = keras.wrappers.scikit_learn.KerasRegressor(build_fn=build_model)\n",
    "history = sklearn_model.fit(x_train_std,y_train,epochs = 10,\n",
    "                  validation_data = (x_valid_std,y_valid),\n",
    "                 callbacks = callbacks)"
   ]
  },
  {
   "cell_type": "code",
   "execution_count": 8,
   "metadata": {
    "pycharm": {
     "is_executing": false,
     "name": "#%%\n"
    }
   },
   "outputs": [
    {
     "data": {
      "image/png": "[encoded data removed]",
      "text/plain": [
       "<Figure size 576x360 with 1 Axes>"
      ]
     },
     "metadata": {
      "needs_background": "light"
     },
     "output_type": "display_data"
    }
   ],
   "source": [
    "def plot_learning_curves(history):\n",
    "    pd.DataFrame(history.history).plot(figsize = (8,5))\n",
    "    plt.grid(True)\n",
    "    plt.gca().set_ylim(0,1)\n",
    "    plt.show()\n",
    "\n",
    "plot_learning_curves(history)"
   ]
  },
  {
   "cell_type": "code",
   "execution_count": 9,
   "metadata": {
    "pycharm": {
     "is_executing": false,
     "name": "#%%\n"
    }
   },
   "outputs": [
    {
     "name": "stderr",
     "output_type": "stream",
     "text": [
      "d:\\python\\lib\\site-packages\\sklearn\\model_selection\\_split.py:1978: FutureWarning: The default value of cv will change from 3 to 5 in version 0.22. Specify it explicitly to silence this warning.\n",
      "  warnings.warn(CV_WARNING, FutureWarning)\n",
      "d:\\python\\lib\\site-packages\\sklearn\\model_selection\\_validation.py:530: FutureWarning: From version 0.22, errors during fit will result in a cross validation score of NaN by default. Use error_score='raise' if you want an exception raised or error_score=np.nan to adopt the behavior from version 0.22.\n",
      "  FutureWarning)\n"
     ]
    },
    {
     "ename": "TypeError",
     "evalue": "__init__() missing 1 required positional argument: 'units'",
     "output_type": "error",
     "traceback": [
      "\u001b[1;31m---------------------------------------------------------------------------\u001b[0m",
      "\u001b[1;31mTypeError\u001b[0m                                 Traceback (most recent call last)",
      "\u001b[1;32m<ipython-input-9-07d17e8ef7b6>\u001b[0m in \u001b[0;36m<module>\u001b[1;34m\u001b[0m\n\u001b[0;32m     15\u001b[0m random_search_cv.fit(x_train_std,y_train,epochs = 100,\n\u001b[0;32m     16\u001b[0m          \u001b[0mvalidation_data\u001b[0m \u001b[1;33m=\u001b[0m \u001b[1;33m(\u001b[0m\u001b[0mx_valid_std\u001b[0m\u001b[1;33m,\u001b[0m\u001b[0my_valid\u001b[0m\u001b[1;33m)\u001b[0m\u001b[1;33m,\u001b[0m\u001b[1;33m\u001b[0m\u001b[0m\n\u001b[1;32m---> 17\u001b[1;33m          callbacks = callbacks)\n\u001b[0m",
      "\u001b[1;32md:\\python\\lib\\site-packages\\sklearn\\model_selection\\_search.py\u001b[0m in \u001b[0;36mfit\u001b[1;34m(self, X, y, groups, **fit_params)\u001b[0m\n\u001b[0;32m    686\u001b[0m                 \u001b[1;32mreturn\u001b[0m \u001b[0mresults\u001b[0m\u001b[1;33m\u001b[0m\u001b[0m\n\u001b[0;32m    687\u001b[0m \u001b[1;33m\u001b[0m\u001b[0m\n\u001b[1;32m--> 688\u001b[1;33m             \u001b[0mself\u001b[0m\u001b[1;33m.\u001b[0m\u001b[0m_run_search\u001b[0m\u001b[1;33m(\u001b[0m\u001b[0mevaluate_candidates\u001b[0m\u001b[1;33m)\u001b[0m\u001b[1;33m\u001b[0m\u001b[0m\n\u001b[0m\u001b[0;32m    689\u001b[0m \u001b[1;33m\u001b[0m\u001b[0m\n\u001b[0;32m    690\u001b[0m         \u001b[1;31m# For multi-metric evaluation, store the best_index_, best_params_ and\u001b[0m\u001b[1;33m\u001b[0m\u001b[1;33m\u001b[0m\u001b[0m\n",
      "\u001b[1;32md:\\python\\lib\\site-packages\\sklearn\\model_selection\\_search.py\u001b[0m in \u001b[0;36m_run_search\u001b[1;34m(self, evaluate_candidates)\u001b[0m\n\u001b[0;32m   1467\u001b[0m         evaluate_candidates(ParameterSampler(\n\u001b[0;32m   1468\u001b[0m             \u001b[0mself\u001b[0m\u001b[1;33m.\u001b[0m\u001b[0mparam_distributions\u001b[0m\u001b[1;33m,\u001b[0m \u001b[0mself\u001b[0m\u001b[1;33m.\u001b[0m\u001b[0mn_iter\u001b[0m\u001b[1;33m,\u001b[0m\u001b[1;33m\u001b[0m\u001b[0m\n\u001b[1;32m-> 1469\u001b[1;33m             random_state=self.random_state))\n\u001b[0m",
      "\u001b[1;32md:\\python\\lib\\site-packages\\sklearn\\model_selection\\_search.py\u001b[0m in \u001b[0;36mevaluate_candidates\u001b[1;34m(candidate_params)\u001b[0m\n\u001b[0;32m    665\u001b[0m                                \u001b[1;32mfor\u001b[0m \u001b[0mparameters\u001b[0m\u001b[1;33m,\u001b[0m \u001b[1;33m(\u001b[0m\u001b[0mtrain\u001b[0m\u001b[1;33m,\u001b[0m \u001b[0mtest\u001b[0m\u001b[1;33m)\u001b[0m\u001b[1;33m\u001b[0m\u001b[0m\n\u001b[0;32m    666\u001b[0m                                in product(candidate_params,\n\u001b[1;32m--> 667\u001b[1;33m                                           cv.split(X, y, groups)))\n\u001b[0m\u001b[0;32m    668\u001b[0m \u001b[1;33m\u001b[0m\u001b[0m\n\u001b[0;32m    669\u001b[0m                 \u001b[1;32mif\u001b[0m \u001b[0mlen\u001b[0m\u001b[1;33m(\u001b[0m\u001b[0mout\u001b[0m\u001b[1;33m)\u001b[0m \u001b[1;33m<\u001b[0m \u001b[1;36m1\u001b[0m\u001b[1;33m:\u001b[0m\u001b[1;33m\u001b[0m\u001b[0m\n",
      "\u001b[1;32md:\\python\\lib\\site-packages\\joblib\\parallel.py\u001b[0m in \u001b[0;36m__call__\u001b[1;34m(self, iterable)\u001b[0m\n\u001b[0;32m    919\u001b[0m             \u001b[1;31m# remaining jobs.\u001b[0m\u001b[1;33m\u001b[0m\u001b[1;33m\u001b[0m\u001b[0m\n\u001b[0;32m    920\u001b[0m             \u001b[0mself\u001b[0m\u001b[1;33m.\u001b[0m\u001b[0m_iterating\u001b[0m \u001b[1;33m=\u001b[0m \u001b[1;32mFalse\u001b[0m\u001b[1;33m\u001b[0m\u001b[0m\n\u001b[1;32m--> 921\u001b[1;33m             \u001b[1;32mif\u001b[0m \u001b[0mself\u001b[0m\u001b[1;33m.\u001b[0m\u001b[0mdispatch_one_batch\u001b[0m\u001b[1;33m(\u001b[0m\u001b[0miterator\u001b[0m\u001b[1;33m)\u001b[0m\u001b[1;33m:\u001b[0m\u001b[1;33m\u001b[0m\u001b[0m\n\u001b[0m\u001b[0;32m    922\u001b[0m                 \u001b[0mself\u001b[0m\u001b[1;33m.\u001b[0m\u001b[0m_iterating\u001b[0m \u001b[1;33m=\u001b[0m \u001b[0mself\u001b[0m\u001b[1;33m.\u001b[0m\u001b[0m_original_iterator\u001b[0m \u001b[1;32mis\u001b[0m \u001b[1;32mnot\u001b[0m \u001b[1;32mNone\u001b[0m\u001b[1;33m\u001b[0m\u001b[0m\n\u001b[0;32m    923\u001b[0m \u001b[1;33m\u001b[0m\u001b[0m\n",
      "\u001b[1;32md:\\python\\lib\\site-packages\\joblib\\parallel.py\u001b[0m in \u001b[0;36mdispatch_one_batch\u001b[1;34m(self, iterator)\u001b[0m\n\u001b[0;32m    757\u001b[0m                 \u001b[1;32mreturn\u001b[0m \u001b[1;32mFalse\u001b[0m\u001b[1;33m\u001b[0m\u001b[0m\n\u001b[0;32m    758\u001b[0m             \u001b[1;32melse\u001b[0m\u001b[1;33m:\u001b[0m\u001b[1;33m\u001b[0m\u001b[0m\n\u001b[1;32m--> 759\u001b[1;33m                 \u001b[0mself\u001b[0m\u001b[1;33m.\u001b[0m\u001b[0m_dispatch\u001b[0m\u001b[1;33m(\u001b[0m\u001b[0mtasks\u001b[0m\u001b[1;33m)\u001b[0m\u001b[1;33m\u001b[0m\u001b[0m\n\u001b[0m\u001b[0;32m    760\u001b[0m                 \u001b[1;32mreturn\u001b[0m \u001b[1;32mTrue\u001b[0m\u001b[1;33m\u001b[0m\u001b[0m\n\u001b[0;32m    761\u001b[0m \u001b[1;33m\u001b[0m\u001b[0m\n",
      "\u001b[1;32md:\\python\\lib\\site-packages\\joblib\\parallel.py\u001b[0m in \u001b[0;36m_dispatch\u001b[1;34m(self, batch)\u001b[0m\n\u001b[0;32m    714\u001b[0m         \u001b[1;32mwith\u001b[0m \u001b[0mself\u001b[0m\u001b[1;33m.\u001b[0m\u001b[0m_lock\u001b[0m\u001b[1;33m:\u001b[0m\u001b[1;33m\u001b[0m\u001b[0m\n\u001b[0;32m    715\u001b[0m             \u001b[0mjob_idx\u001b[0m \u001b[1;33m=\u001b[0m \u001b[0mlen\u001b[0m\u001b[1;33m(\u001b[0m\u001b[0mself\u001b[0m\u001b[1;33m.\u001b[0m\u001b[0m_jobs\u001b[0m\u001b[1;33m)\u001b[0m\u001b[1;33m\u001b[0m\u001b[0m\n\u001b[1;32m--> 716\u001b[1;33m             \u001b[0mjob\u001b[0m \u001b[1;33m=\u001b[0m \u001b[0mself\u001b[0m\u001b[1;33m.\u001b[0m\u001b[0m_backend\u001b[0m\u001b[1;33m.\u001b[0m\u001b[0mapply_async\u001b[0m\u001b[1;33m(\u001b[0m\u001b[0mbatch\u001b[0m\u001b[1;33m,\u001b[0m \u001b[0mcallback\u001b[0m\u001b[1;33m=\u001b[0m\u001b[0mcb\u001b[0m\u001b[1;33m)\u001b[0m\u001b[1;33m\u001b[0m\u001b[0m\n\u001b[0m\u001b[0;32m    717\u001b[0m             \u001b[1;31m# A job can complete so quickly than its callback is\u001b[0m\u001b[1;33m\u001b[0m\u001b[1;33m\u001b[0m\u001b[0m\n\u001b[0;32m    718\u001b[0m             \u001b[1;31m# called before we get here, causing self._jobs to\u001b[0m\u001b[1;33m\u001b[0m\u001b[1;33m\u001b[0m\u001b[0m\n",
      "\u001b[1;32md:\\python\\lib\\site-packages\\joblib\\_parallel_backends.py\u001b[0m in \u001b[0;36mapply_async\u001b[1;34m(self, func, callback)\u001b[0m\n\u001b[0;32m    180\u001b[0m     \u001b[1;32mdef\u001b[0m \u001b[0mapply_async\u001b[0m\u001b[1;33m(\u001b[0m\u001b[0mself\u001b[0m\u001b[1;33m,\u001b[0m \u001b[0mfunc\u001b[0m\u001b[1;33m,\u001b[0m \u001b[0mcallback\u001b[0m\u001b[1;33m=\u001b[0m\u001b[1;32mNone\u001b[0m\u001b[1;33m)\u001b[0m\u001b[1;33m:\u001b[0m\u001b[1;33m\u001b[0m\u001b[0m\n\u001b[0;32m    181\u001b[0m         \u001b[1;34m\"\"\"Schedule a func to be run\"\"\"\u001b[0m\u001b[1;33m\u001b[0m\u001b[0m\n\u001b[1;32m--> 182\u001b[1;33m         \u001b[0mresult\u001b[0m \u001b[1;33m=\u001b[0m \u001b[0mImmediateResult\u001b[0m\u001b[1;33m(\u001b[0m\u001b[0mfunc\u001b[0m\u001b[1;33m)\u001b[0m\u001b[1;33m\u001b[0m\u001b[0m\n\u001b[0m\u001b[0;32m    183\u001b[0m         \u001b[1;32mif\u001b[0m \u001b[0mcallback\u001b[0m\u001b[1;33m:\u001b[0m\u001b[1;33m\u001b[0m\u001b[0m\n\u001b[0;32m    184\u001b[0m             \u001b[0mcallback\u001b[0m\u001b[1;33m(\u001b[0m\u001b[0mresult\u001b[0m\u001b[1;33m)\u001b[0m\u001b[1;33m\u001b[0m\u001b[0m\n",
      "\u001b[1;32md:\\python\\lib\\site-packages\\joblib\\_parallel_backends.py\u001b[0m in \u001b[0;36m__init__\u001b[1;34m(self, batch)\u001b[0m\n\u001b[0;32m    547\u001b[0m         \u001b[1;31m# Don't delay the application, to avoid keeping the input\u001b[0m\u001b[1;33m\u001b[0m\u001b[1;33m\u001b[0m\u001b[0m\n\u001b[0;32m    548\u001b[0m         \u001b[1;31m# arguments in memory\u001b[0m\u001b[1;33m\u001b[0m\u001b[1;33m\u001b[0m\u001b[0m\n\u001b[1;32m--> 549\u001b[1;33m         \u001b[0mself\u001b[0m\u001b[1;33m.\u001b[0m\u001b[0mresults\u001b[0m \u001b[1;33m=\u001b[0m \u001b[0mbatch\u001b[0m\u001b[1;33m(\u001b[0m\u001b[1;33m)\u001b[0m\u001b[1;33m\u001b[0m\u001b[0m\n\u001b[0m\u001b[0;32m    550\u001b[0m \u001b[1;33m\u001b[0m\u001b[0m\n\u001b[0;32m    551\u001b[0m     \u001b[1;32mdef\u001b[0m \u001b[0mget\u001b[0m\u001b[1;33m(\u001b[0m\u001b[0mself\u001b[0m\u001b[1;33m)\u001b[0m\u001b[1;33m:\u001b[0m\u001b[1;33m\u001b[0m\u001b[0m\n",
      "\u001b[1;32md:\\python\\lib\\site-packages\\joblib\\parallel.py\u001b[0m in \u001b[0;36m__call__\u001b[1;34m(self)\u001b[0m\n\u001b[0;32m    223\u001b[0m         \u001b[1;32mwith\u001b[0m \u001b[0mparallel_backend\u001b[0m\u001b[1;33m(\u001b[0m\u001b[0mself\u001b[0m\u001b[1;33m.\u001b[0m\u001b[0m_backend\u001b[0m\u001b[1;33m,\u001b[0m \u001b[0mn_jobs\u001b[0m\u001b[1;33m=\u001b[0m\u001b[0mself\u001b[0m\u001b[1;33m.\u001b[0m\u001b[0m_n_jobs\u001b[0m\u001b[1;33m)\u001b[0m\u001b[1;33m:\u001b[0m\u001b[1;33m\u001b[0m\u001b[0m\n\u001b[0;32m    224\u001b[0m             return [func(*args, **kwargs)\n\u001b[1;32m--> 225\u001b[1;33m                     for func, args, kwargs in self.items]\n\u001b[0m\u001b[0;32m    226\u001b[0m \u001b[1;33m\u001b[0m\u001b[0m\n\u001b[0;32m    227\u001b[0m     \u001b[1;32mdef\u001b[0m \u001b[0m__len__\u001b[0m\u001b[1;33m(\u001b[0m\u001b[0mself\u001b[0m\u001b[1;33m)\u001b[0m\u001b[1;33m:\u001b[0m\u001b[1;33m\u001b[0m\u001b[0m\n",
      "\u001b[1;32md:\\python\\lib\\site-packages\\joblib\\parallel.py\u001b[0m in \u001b[0;36m<listcomp>\u001b[1;34m(.0)\u001b[0m\n\u001b[0;32m    223\u001b[0m         \u001b[1;32mwith\u001b[0m \u001b[0mparallel_backend\u001b[0m\u001b[1;33m(\u001b[0m\u001b[0mself\u001b[0m\u001b[1;33m.\u001b[0m\u001b[0m_backend\u001b[0m\u001b[1;33m,\u001b[0m \u001b[0mn_jobs\u001b[0m\u001b[1;33m=\u001b[0m\u001b[0mself\u001b[0m\u001b[1;33m.\u001b[0m\u001b[0m_n_jobs\u001b[0m\u001b[1;33m)\u001b[0m\u001b[1;33m:\u001b[0m\u001b[1;33m\u001b[0m\u001b[0m\n\u001b[0;32m    224\u001b[0m             return [func(*args, **kwargs)\n\u001b[1;32m--> 225\u001b[1;33m                     for func, args, kwargs in self.items]\n\u001b[0m\u001b[0;32m    226\u001b[0m \u001b[1;33m\u001b[0m\u001b[0m\n\u001b[0;32m    227\u001b[0m     \u001b[1;32mdef\u001b[0m \u001b[0m__len__\u001b[0m\u001b[1;33m(\u001b[0m\u001b[0mself\u001b[0m\u001b[1;33m)\u001b[0m\u001b[1;33m:\u001b[0m\u001b[1;33m\u001b[0m\u001b[0m\n",
      "\u001b[1;32md:\\python\\lib\\site-packages\\sklearn\\model_selection\\_validation.py\u001b[0m in \u001b[0;36m_fit_and_score\u001b[1;34m(estimator, X, y, scorer, train, test, verbose, parameters, fit_params, return_train_score, return_parameters, return_n_test_samples, return_times, return_estimator, error_score)\u001b[0m\n\u001b[0;32m    514\u001b[0m             \u001b[0mestimator\u001b[0m\u001b[1;33m.\u001b[0m\u001b[0mfit\u001b[0m\u001b[1;33m(\u001b[0m\u001b[0mX_train\u001b[0m\u001b[1;33m,\u001b[0m \u001b[1;33m**\u001b[0m\u001b[0mfit_params\u001b[0m\u001b[1;33m)\u001b[0m\u001b[1;33m\u001b[0m\u001b[0m\n\u001b[0;32m    515\u001b[0m         \u001b[1;32melse\u001b[0m\u001b[1;33m:\u001b[0m\u001b[1;33m\u001b[0m\u001b[0m\n\u001b[1;32m--> 516\u001b[1;33m             \u001b[0mestimator\u001b[0m\u001b[1;33m.\u001b[0m\u001b[0mfit\u001b[0m\u001b[1;33m(\u001b[0m\u001b[0mX_train\u001b[0m\u001b[1;33m,\u001b[0m \u001b[0my_train\u001b[0m\u001b[1;33m,\u001b[0m \u001b[1;33m**\u001b[0m\u001b[0mfit_params\u001b[0m\u001b[1;33m)\u001b[0m\u001b[1;33m\u001b[0m\u001b[0m\n\u001b[0m\u001b[0;32m    517\u001b[0m \u001b[1;33m\u001b[0m\u001b[0m\n\u001b[0;32m    518\u001b[0m     \u001b[1;32mexcept\u001b[0m \u001b[0mException\u001b[0m \u001b[1;32mas\u001b[0m \u001b[0me\u001b[0m\u001b[1;33m:\u001b[0m\u001b[1;33m\u001b[0m\u001b[0m\n",
      "\u001b[1;32md:\\python\\lib\\site-packages\\tensorflow\\python\\keras\\wrappers\\scikit_learn.py\u001b[0m in \u001b[0;36mfit\u001b[1;34m(self, x, y, **kwargs)\u001b[0m\n\u001b[0;32m    155\u001b[0m           **self.filter_sk_params(self.build_fn.__call__))\n\u001b[0;32m    156\u001b[0m     \u001b[1;32melse\u001b[0m\u001b[1;33m:\u001b[0m\u001b[1;33m\u001b[0m\u001b[0m\n\u001b[1;32m--> 157\u001b[1;33m       \u001b[0mself\u001b[0m\u001b[1;33m.\u001b[0m\u001b[0mmodel\u001b[0m \u001b[1;33m=\u001b[0m \u001b[0mself\u001b[0m\u001b[1;33m.\u001b[0m\u001b[0mbuild_fn\u001b[0m\u001b[1;33m(\u001b[0m\u001b[1;33m**\u001b[0m\u001b[0mself\u001b[0m\u001b[1;33m.\u001b[0m\u001b[0mfilter_sk_params\u001b[0m\u001b[1;33m(\u001b[0m\u001b[0mself\u001b[0m\u001b[1;33m.\u001b[0m\u001b[0mbuild_fn\u001b[0m\u001b[1;33m)\u001b[0m\u001b[1;33m)\u001b[0m\u001b[1;33m\u001b[0m\u001b[0m\n\u001b[0m\u001b[0;32m    158\u001b[0m \u001b[1;33m\u001b[0m\u001b[0m\n\u001b[0;32m    159\u001b[0m     if (losses.is_categorical_crossentropy(self.model.loss) and\n",
      "\u001b[1;32m<ipython-input-7-17442fc02f11>\u001b[0m in \u001b[0;36mbuild_model\u001b[1;34m(hidden_layers, layer_size, learning_rate)\u001b[0m\n\u001b[0;32m     17\u001b[0m \u001b[1;33m\u001b[0m\u001b[0m\n\u001b[0;32m     18\u001b[0m     \u001b[1;32mfor\u001b[0m \u001b[0m_\u001b[0m \u001b[1;32min\u001b[0m \u001b[0mrange\u001b[0m\u001b[1;33m(\u001b[0m\u001b[0mhidden_layers\u001b[0m\u001b[1;33m-\u001b[0m\u001b[1;36m1\u001b[0m\u001b[1;33m)\u001b[0m\u001b[1;33m:\u001b[0m\u001b[1;33m\u001b[0m\u001b[0m\n\u001b[1;32m---> 19\u001b[1;33m         \u001b[0mmodel\u001b[0m\u001b[1;33m.\u001b[0m\u001b[0madd\u001b[0m\u001b[1;33m(\u001b[0m\u001b[0mkeras\u001b[0m\u001b[1;33m.\u001b[0m\u001b[0mlayers\u001b[0m\u001b[1;33m.\u001b[0m\u001b[0mDense\u001b[0m\u001b[1;33m(\u001b[0m\u001b[0mlayer_size\u001b[0m\u001b[1;33m=\u001b[0m\u001b[0mlayer_size\u001b[0m\u001b[1;33m,\u001b[0m\u001b[0mactivation\u001b[0m\u001b[1;33m=\u001b[0m\u001b[1;34m\"relu\"\u001b[0m\u001b[1;33m)\u001b[0m\u001b[1;33m)\u001b[0m\u001b[1;33m\u001b[0m\u001b[0m\n\u001b[0m\u001b[0;32m     20\u001b[0m \u001b[1;33m\u001b[0m\u001b[0m\n\u001b[0;32m     21\u001b[0m     \u001b[0mmodel\u001b[0m\u001b[1;33m.\u001b[0m\u001b[0madd\u001b[0m\u001b[1;33m(\u001b[0m\u001b[0mkeras\u001b[0m\u001b[1;33m.\u001b[0m\u001b[0mlayers\u001b[0m\u001b[1;33m.\u001b[0m\u001b[0mDense\u001b[0m\u001b[1;33m(\u001b[0m\u001b[1;36m1\u001b[0m\u001b[1;33m)\u001b[0m\u001b[1;33m)\u001b[0m\u001b[1;33m\u001b[0m\u001b[0m\n",
      "\u001b[1;31mTypeError\u001b[0m: __init__() missing 1 required positional argument: 'units'"
     ]
    }
   ],
   "source": [
    "# from scipy.stats import reciprocal\n",
    "\n",
    "# param_distribution = {\n",
    "#     \"hidden_layers\":[1, 2, 3, 4],\n",
    "#     \"layer_size\": np.arange(1, 100),\n",
    "#     \"learning_rate\": reciprocal(1e-4, 1e-2),\n",
    "# }\n",
    "\n",
    "# from sklearn.model_selection import RandomizedSearchCV\n",
    "\n",
    "# random_search_cv = RandomizedSearchCV(sklearn_model,\n",
    "#                           param_distribution,\n",
    "#                           n_iter=10,\n",
    "#                           n_jobs = 1)\n",
    "# random_search_cv.fit(x_train_std,y_train,epochs = 100,\n",
    "#          validation_data = (x_valid_std,y_valid),\n",
    "#          callbacks = callbacks)\n"
   ]
  },
  {
   "cell_type": "code",
   "execution_count": null,
   "metadata": {
    "pycharm": {
     "is_executing": false,
     "name": "#%%\n"
    }
   },
   "outputs": [
    {
     "name": "stdout",
     "output_type": "stream",
     "text": [
      "Train on 10320 samples, validate on 5160 samples\n",
      "Epoch 1/100\n",
      "10320/10320 [==============================] - ETA: 0s - loss: 4.964 - 0s 30us/sample - loss: 4.8646 - val_loss: 3.6790\n",
      "Epoch 2/100\n",
      "10320/10320 [==============================] - 0s 22us/sample - loss: 2.8461 - val_loss: 2.5287\n",
      "Epoch 3/100\n",
      "10320/10320 [==============================] - 0s 22us/sample - loss: 2.0119 - val_loss: 1.9422\n",
      "Epoch 4/100\n",
      "10320/10320 [==============================] - 0s 23us/sample - loss: 1.5850 - val_loss: 1.5724\n",
      "Epoch 5/100\n",
      "10320/10320 [==============================] - 0s 23us/sample - loss: 1.3259 - val_loss: 1.3275\n",
      "Epoch 6/100\n",
      "10320/10320 [==============================] - 0s 22us/sample - loss: 1.1558 - val_loss: 1.1531\n",
      "Epoch 7/100\n",
      "10320/10320 [==============================] - 0s 22us/sample - loss: 1.0393 - val_loss: 1.0347\n",
      "Epoch 8/100\n",
      "10320/10320 [==============================] - 0s 22us/sample - loss: 0.9593 - val_loss: 0.9516\n",
      "Epoch 9/100\n",
      "10320/10320 [==============================] - 0s 23us/sample - loss: 0.9038 - val_loss: 0.8955\n",
      "Epoch 10/100\n",
      "10320/10320 [==============================] - 0s 23us/sample - loss: 0.8646 - val_loss: 0.8574\n",
      "Epoch 11/100\n",
      "10320/10320 [==============================] - 0s 22us/sample - loss: 0.8361 - val_loss: 0.8302\n",
      "Epoch 12/100\n",
      "10320/10320 [==============================] - 0s 23us/sample - loss: 0.8145 - val_loss: 0.8099\n",
      "Epoch 13/100\n",
      "10320/10320 [==============================] - 0s 23us/sample - loss: 0.7977 - val_loss: 0.7940\n",
      "Epoch 14/100\n",
      "10320/10320 [==============================] - 0s 22us/sample - loss: 0.7838 - val_loss: 0.7814\n",
      "Epoch 15/100\n",
      "10320/10320 [==============================] - 0s 23us/sample - loss: 0.7721 - val_loss: 0.7705\n",
      "Epoch 16/100\n",
      "10320/10320 [==============================] - 0s 22us/sample - loss: 0.7618 - val_loss: 0.7612\n",
      "Epoch 17/100\n",
      "10320/10320 [==============================] - 0s 23us/sample - loss: 0.7526 - val_loss: 0.7527\n",
      "Epoch 18/100\n",
      "10320/10320 [==============================] - 0s 23us/sample - loss: 0.7441 - val_loss: 0.7448\n",
      "Epoch 19/100\n",
      "10320/10320 [==============================] - 0s 23us/sample - loss: 0.7362 - val_loss: 0.7375\n",
      "Epoch 20/100\n",
      "10320/10320 [==============================] - 0s 23us/sample - loss: 0.7287 - val_loss: 0.7305\n",
      "Epoch 21/100\n",
      "10320/10320 [==============================] - 0s 23us/sample - loss: 0.7217 - val_loss: 0.7239\n",
      "Epoch 22/100\n",
      "10320/10320 [==============================] - 0s 23us/sample - loss: 0.7149 - val_loss: 0.7175\n",
      "Epoch 23/100\n",
      "10320/10320 [==============================] - 0s 23us/sample - loss: 0.7085 - val_loss: 0.7114\n",
      "Epoch 24/100\n",
      "10320/10320 [==============================] - 0s 23us/sample - loss: 0.7023 - val_loss: 0.7055\n",
      "Epoch 25/100\n",
      "10320/10320 [==============================] - 0s 23us/sample - loss: 0.6962 - val_loss: 0.6999\n",
      "Epoch 26/100\n",
      "10320/10320 [==============================] - 0s 23us/sample - loss: 0.6904 - val_loss: 0.6944\n",
      "Epoch 27/100\n",
      "10320/10320 [==============================] - 0s 23us/sample - loss: 0.6848 - val_loss: 0.6891\n",
      "Epoch 28/100\n",
      "10320/10320 [==============================] - 0s 22us/sample - loss: 0.6792 - val_loss: 0.6839\n",
      "Epoch 29/100\n",
      "10320/10320 [==============================] - 0s 23us/sample - loss: 0.6738 - val_loss: 0.6789\n",
      "Epoch 30/100\n",
      "10320/10320 [==============================] - 0s 22us/sample - loss: 0.6686 - val_loss: 0.6741\n",
      "Epoch 31/100\n",
      "10320/10320 [==============================] - 0s 23us/sample - loss: 0.6634 - val_loss: 0.6695\n",
      "Epoch 32/100\n",
      "10320/10320 [==============================] - 0s 23us/sample - loss: 0.6584 - val_loss: 0.6648\n",
      "Epoch 33/100\n",
      "10320/10320 [==============================] - 0s 23us/sample - loss: 0.6535 - val_loss: 0.6602\n",
      "Epoch 34/100\n",
      "10320/10320 [==============================] - 0s 23us/sample - loss: 0.6487 - val_loss: 0.6557\n",
      "Epoch 35/100\n",
      "10320/10320 [==============================] - 0s 23us/sample - loss: 0.6439 - val_loss: 0.6513\n",
      "Epoch 36/100\n",
      "10320/10320 [==============================] - 0s 23us/sample - loss: 0.6393 - val_loss: 0.6470\n",
      "Epoch 37/100\n",
      "10320/10320 [==============================] - 0s 23us/sample - loss: 0.6348 - val_loss: 0.6427\n",
      "Epoch 38/100\n",
      "10320/10320 [==============================] - 0s 22us/sample - loss: 0.6303 - val_loss: 0.6387\n",
      "Epoch 39/100\n",
      "10320/10320 [==============================] - 0s 23us/sample - loss: 0.6260 - val_loss: 0.6345\n",
      "Epoch 40/100\n",
      "10320/10320 [==============================] - 0s 23us/sample - loss: 0.6218 - val_loss: 0.6305\n",
      "Epoch 41/100\n",
      "10320/10320 [==============================] - 0s 23us/sample - loss: 0.6176 - val_loss: 0.6264\n",
      "Epoch 42/100\n",
      "10320/10320 [==============================] - 0s 23us/sample - loss: 0.6136 - val_loss: 0.6225\n",
      "Epoch 43/100\n",
      "10320/10320 [==============================] - 0s 22us/sample - loss: 0.6097 - val_loss: 0.6187\n",
      "Epoch 44/100\n",
      "10320/10320 [==============================] - 0s 23us/sample - loss: 0.6058 - val_loss: 0.6150\n",
      "Epoch 45/100\n",
      "10320/10320 [==============================] - 0s 22us/sample - loss: 0.6021 - val_loss: 0.6113\n",
      "Epoch 46/100\n",
      "10320/10320 [==============================] - 0s 22us/sample - loss: 0.5984 - val_loss: 0.6077\n",
      "Epoch 47/100\n",
      "10320/10320 [==============================] - 0s 23us/sample - loss: 0.5947 - val_loss: 0.6042\n",
      "Epoch 48/100\n",
      "10320/10320 [==============================] - 0s 23us/sample - loss: 0.5912 - val_loss: 0.6008\n",
      "Epoch 49/100\n",
      "10320/10320 [==============================] - 0s 23us/sample - loss: 0.5878 - val_loss: 0.5974\n",
      "Epoch 50/100\n",
      "10320/10320 [==============================] - 0s 23us/sample - loss: 0.5844 - val_loss: 0.5941\n",
      "Epoch 51/100\n",
      "10320/10320 [==============================] - 0s 22us/sample - loss: 0.5811 - val_loss: 0.5909\n",
      "Epoch 52/100\n",
      "10320/10320 [==============================] - 0s 23us/sample - loss: 0.5779 - val_loss: 0.5878\n",
      "Epoch 53/100\n",
      "10320/10320 [==============================] - 0s 23us/sample - loss: 0.5747 - val_loss: 0.5847\n",
      "Epoch 54/100\n",
      "10320/10320 [==============================] - 0s 22us/sample - loss: 0.5716 - val_loss: 0.5817\n",
      "Epoch 55/100\n",
      "10320/10320 [==============================] - 0s 22us/sample - loss: 0.5685 - val_loss: 0.5787\n",
      "Epoch 56/100\n",
      "10320/10320 [==============================] - 0s 23us/sample - loss: 0.5656 - val_loss: 0.5757\n",
      "Epoch 57/100\n",
      "10320/10320 [==============================] - 0s 23us/sample - loss: 0.5627 - val_loss: 0.5729\n",
      "Epoch 58/100\n",
      "10320/10320 [==============================] - 0s 23us/sample - loss: 0.5598 - val_loss: 0.5700\n",
      "Epoch 59/100\n",
      "10320/10320 [==============================] - 0s 22us/sample - loss: 0.5570 - val_loss: 0.5673\n",
      "Epoch 60/100\n",
      "10320/10320 [==============================] - 0s 22us/sample - loss: 0.5542 - val_loss: 0.5646\n",
      "Epoch 61/100\n",
      "10320/10320 [==============================] - 0s 22us/sample - loss: 0.5515 - val_loss: 0.5620\n",
      "Epoch 62/100\n",
      "10320/10320 [==============================] - 0s 22us/sample - loss: 0.5488 - val_loss: 0.5594\n",
      "Epoch 63/100\n",
      "10320/10320 [==============================] - 0s 23us/sample - loss: 0.5462 - val_loss: 0.5569\n",
      "Epoch 64/100\n",
      "10320/10320 [==============================] - 0s 23us/sample - loss: 0.5437 - val_loss: 0.5544\n",
      "Epoch 65/100\n",
      "10320/10320 [==============================] - 0s 22us/sample - loss: 0.5413 - val_loss: 0.5521\n",
      "Epoch 66/100\n",
      "10320/10320 [==============================] - 0s 22us/sample - loss: 0.5389 - val_loss: 0.5498\n",
      "Epoch 67/100\n",
      "10320/10320 [==============================] - 0s 22us/sample - loss: 0.5366 - val_loss: 0.5476\n",
      "Epoch 68/100\n",
      "10320/10320 [==============================] - 0s 23us/sample - loss: 0.5343 - val_loss: 0.5457\n",
      "Epoch 69/100\n",
      "10320/10320 [==============================] - 0s 23us/sample - loss: 0.5322 - val_loss: 0.5434\n",
      "Epoch 70/100\n",
      "10320/10320 [==============================] - 0s 23us/sample - loss: 0.5300 - val_loss: 0.5413\n",
      "Epoch 71/100\n",
      "10320/10320 [==============================] - 0s 22us/sample - loss: 0.5279 - val_loss: 0.5393\n",
      "Epoch 72/100\n",
      "10320/10320 [==============================] - 0s 23us/sample - loss: 0.5259 - val_loss: 0.5374\n",
      "Epoch 73/100\n",
      "10320/10320 [==============================] - 0s 22us/sample - loss: 0.5239 - val_loss: 0.5354\n",
      "Epoch 74/100\n",
      "10320/10320 [==============================] - 0s 22us/sample - loss: 0.5220 - val_loss: 0.5336\n",
      "Epoch 75/100\n"
     ]
    },
    {
     "name": "stdout",
     "output_type": "stream",
     "text": [
      "10320/10320 [==============================] - 0s 22us/sample - loss: 0.5202 - val_loss: 0.5318\n",
      "Epoch 76/100\n",
      "10320/10320 [==============================] - 0s 23us/sample - loss: 0.5183 - val_loss: 0.5301\n",
      "Epoch 77/100\n",
      "10320/10320 [==============================] - 0s 22us/sample - loss: 0.5166 - val_loss: 0.5284\n",
      "5160/5160 [==============================] - 0s 9us/sample - loss: 0.5092\n",
      "Train on 10320 samples, validate on 5160 samples\n",
      "Epoch 1/100\n",
      "10320/10320 [==============================] - 0s 29us/sample - loss: 4.4462 - val_loss: 3.5259\n",
      "Epoch 2/100\n",
      "10320/10320 [==============================] - 0s 22us/sample - loss: 2.6034 - val_loss: 2.2610\n",
      "Epoch 3/100\n",
      "10320/10320 [==============================] - 0s 23us/sample - loss: 1.7381 - val_loss: 1.5946\n",
      "Epoch 4/100\n",
      "10320/10320 [==============================] - 0s 22us/sample - loss: 1.2970 - val_loss: 1.2445\n",
      "Epoch 5/100\n",
      "10320/10320 [==============================] - 0s 22us/sample - loss: 1.0623 - val_loss: 1.0472\n",
      "Epoch 6/100\n",
      "10320/10320 [==============================] - 0s 22us/sample - loss: 0.9318 - val_loss: 0.9325\n",
      "Epoch 7/100\n",
      "10320/10320 [==============================] - 0s 22us/sample - loss: 0.8566 - val_loss: 0.8654\n",
      "Epoch 8/100\n",
      "10320/10320 [==============================] - 0s 22us/sample - loss: 0.8116 - val_loss: 0.8237\n",
      "Epoch 9/100\n",
      "10320/10320 [==============================] - 0s 23us/sample - loss: 0.7824 - val_loss: 0.7959\n",
      "Epoch 10/100\n",
      "10320/10320 [==============================] - 0s 22us/sample - loss: 0.7622 - val_loss: 0.7767\n",
      "Epoch 11/100\n",
      "10320/10320 [==============================] - 0s 23us/sample - loss: 0.7469 - val_loss: 0.7621\n",
      "Epoch 12/100\n",
      "10320/10320 [==============================] - 0s 22us/sample - loss: 0.7345 - val_loss: 0.7502\n",
      "Epoch 13/100\n",
      "10320/10320 [==============================] - 0s 23us/sample - loss: 0.7239 - val_loss: 0.7399\n",
      "Epoch 14/100\n",
      "10320/10320 [==============================] - 0s 23us/sample - loss: 0.7143 - val_loss: 0.7306\n",
      "Epoch 15/100\n",
      "10320/10320 [==============================] - 0s 22us/sample - loss: 0.7056 - val_loss: 0.7219\n",
      "Epoch 16/100\n",
      "10320/10320 [==============================] - 0s 22us/sample - loss: 0.6973 - val_loss: 0.7140\n",
      "Epoch 17/100\n",
      "10320/10320 [==============================] - 0s 23us/sample - loss: 0.6896 - val_loss: 0.7064\n",
      "Epoch 18/100\n",
      "10320/10320 [==============================] - 0s 23us/sample - loss: 0.6822 - val_loss: 0.6991\n",
      "Epoch 19/100\n",
      "10320/10320 [==============================] - 0s 23us/sample - loss: 0.6751 - val_loss: 0.6921\n",
      "Epoch 20/100\n",
      "10320/10320 [==============================] - 0s 22us/sample - loss: 0.6682 - val_loss: 0.6855\n",
      "Epoch 21/100\n",
      "10320/10320 [==============================] - 0s 23us/sample - loss: 0.6616 - val_loss: 0.6790\n",
      "Epoch 22/100\n",
      "10320/10320 [==============================] - 0s 22us/sample - loss: 0.6553 - val_loss: 0.6728\n",
      "Epoch 23/100\n",
      "   32/10320 [..............................] - ETA: 0s - loss: 0.8503"
     ]
    }
   ],
   "source": [
    "from scipy.stats import reciprocal\n",
    "# f(x) = 1/(x*log(b/a)) a <= x <= b\n",
    "\n",
    "param_distribution = {\n",
    "    \"hidden_layers\":[1, 2, 3, 4],\n",
    "    \"layer_size\": np.arange(1, 100),\n",
    "    \"learning_rate\": reciprocal(1e-4, 1e-2),\n",
    "}\n",
    "from sklearn.model_selection import RandomizedSearchCV\n",
    "\n",
    "random_search_cv = RandomizedSearchCV(sklearn_model,\n",
    "                                      param_distribution,\n",
    "                                      n_iter = 10,\n",
    "                                      # cv = 3,\n",
    "                                      n_jobs = 1)\n",
    "random_search_cv.fit(x_train_std, y_train, epochs = 100,\n",
    "                     validation_data = (x_valid_std, y_valid),\n",
    "                     callbacks = callbacks)"
   ]
  },
  {
   "cell_type": "code",
   "execution_count": null,
   "metadata": {},
   "outputs": [],
   "source": []
  },
  {
   "cell_type": "code",
   "execution_count": null,
   "metadata": {},
   "outputs": [],
   "source": []
  },
  {
   "cell_type": "code",
   "execution_count": null,
   "metadata": {},
   "outputs": [],
   "source": []
  },
  {
   "cell_type": "code",
   "execution_count": null,
   "metadata": {},
   "outputs": [],
   "source": []
  }
 ],
 "metadata": {
  "kernelspec": {
   "display_name": "Python 3",
   "language": "python",
   "name": "python3"
  },
  "language_info": {
   "codemirror_mode": {
    "name": "ipython",
    "version": 3
   },
   "file_extension": ".py",
   "mimetype": "text/x-python",
   "name": "python",
   "nbconvert_exporter": "python",
   "pygments_lexer": "ipython3",
   "version": "3.7.0"
  },
  "pycharm": {
   "stem_cell": {
    "cell_type": "raw",
    "metadata": {
     "collapsed": false
    },
    "source": []
   }
  }
 },
 "nbformat": 4,
 "nbformat_minor": 1
}
