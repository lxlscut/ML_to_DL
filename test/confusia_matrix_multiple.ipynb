{
 "cells": [
  {
   "cell_type": "code",
   "execution_count": 13,
   "metadata": {
    "collapsed": true,
    "pycharm": {
     "is_executing": false
    }
   },
   "outputs": [],
   "source": [
    "from sklearn import datasets\n",
    "import matplotlib.pyplot as plt\n",
    "import numpy as np\n",
    "from sklearn.model_selection import train_test_split\n",
    "from sklearn.metrics import confusion_matrix"
   ]
  },
  {
   "cell_type": "code",
   "execution_count": 4,
   "outputs": [],
   "source": [
    "digit = datasets.load_digits()\n",
    "x = digit.data\n",
    "y = digit.target"
   ],
   "metadata": {
    "collapsed": false,
    "pycharm": {
     "name": "#%%\n",
     "is_executing": false
    }
   }
  },
  {
   "cell_type": "code",
   "execution_count": 5,
   "outputs": [],
   "source": [
    "X_train,X_test,y_train,y_test=train_test_split(x,y,test_size=0.3)"
   ],
   "metadata": {
    "collapsed": false,
    "pycharm": {
     "name": "#%%\n",
     "is_executing": false
    }
   }
  },
  {
   "cell_type": "code",
   "execution_count": 6,
   "outputs": [
    {
     "name": "stderr",
     "text": [
      "d:\\python\\lib\\site-packages\\sklearn\\linear_model\\logistic.py:432: FutureWarning: Default solver will be changed to 'lbfgs' in 0.22. Specify a solver to silence this warning.\n  FutureWarning)\nd:\\python\\lib\\site-packages\\sklearn\\linear_model\\logistic.py:469: FutureWarning: Default multi_class will be changed to 'auto' in 0.22. Specify the multi_class option to silence this warning.\n  \"this warning.\", FutureWarning)\n"
     ],
     "output_type": "stream"
    },
    {
     "data": {
      "text/plain": "LogisticRegression(C=1.0, class_weight=None, dual=False, fit_intercept=True,\n                   intercept_scaling=1, l1_ratio=None, max_iter=100,\n                   multi_class='warn', n_jobs=None, penalty='l2',\n                   random_state=None, solver='warn', tol=0.0001, verbose=0,\n                   warm_start=False)"
     },
     "metadata": {},
     "output_type": "execute_result",
     "execution_count": 6
    }
   ],
   "source": [
    "from sklearn.linear_model import LogisticRegression\n",
    "logis = LogisticRegression()\n",
    "logis.fit(X_train,y_train)"
   ],
   "metadata": {
    "collapsed": false,
    "pycharm": {
     "name": "#%%\n",
     "is_executing": false
    }
   }
  },
  {
   "cell_type": "code",
   "execution_count": 12,
   "outputs": [
    {
     "data": {
      "text/plain": "0.9592592592592593"
     },
     "metadata": {},
     "output_type": "execute_result",
     "execution_count": 12
    }
   ],
   "source": [
    "from sklearn.metrics import precision_score\n",
    "y_predict = logis.predict(X_test)\n",
    "ps = precision_score(y_test,y_predict,average=\"micro\")\n",
    "ps"
   ],
   "metadata": {
    "collapsed": false,
    "pycharm": {
     "name": "#%%\n",
     "is_executing": false
    }
   }
  },
  {
   "cell_type": "code",
   "execution_count": 14,
   "outputs": [],
   "source": [
    "cm = confusion_matrix(y_test,y_predict)\n",
    "\n"
   ],
   "metadata": {
    "collapsed": false,
    "pycharm": {
     "name": "#%%\n",
     "is_executing": false
    }
   }
  },
  {
   "cell_type": "code",
   "execution_count": 15,
   "outputs": [
    {
     "data": {
      "text/plain": "array([[59,  0,  0,  0,  0,  0,  0,  0,  0,  0],\n       [ 0, 42,  0,  1,  0,  0,  0,  0,  1,  0],\n       [ 0,  0, 54,  0,  0,  0,  0,  0,  0,  0],\n       [ 0,  0,  0, 56,  0,  0,  0,  0,  1,  0],\n       [ 0,  1,  0,  0, 66,  0,  1,  1,  0,  0],\n       [ 0,  0,  0,  1,  0, 58,  2,  1,  0,  1],\n       [ 0,  0,  0,  0,  0,  0, 43,  0,  0,  0],\n       [ 0,  0,  0,  1,  0,  0,  0, 51,  0,  1],\n       [ 0,  7,  1,  0,  0,  0,  0,  0, 45,  0],\n       [ 0,  1,  0,  0,  0,  0,  0,  0,  0, 44]], dtype=int64)"
     },
     "metadata": {},
     "output_type": "execute_result",
     "execution_count": 15
    }
   ],
   "source": [
    "cm"
   ],
   "metadata": {
    "collapsed": false,
    "pycharm": {
     "name": "#%%\n",
     "is_executing": false
    }
   }
  },
  {
   "cell_type": "code",
   "execution_count": 17,
   "outputs": [
    {
     "data": {
      "text/plain": "<matplotlib.image.AxesImage at 0x22423137128>"
     },
     "metadata": {},
     "output_type": "execute_result",
     "execution_count": 17
    },
    {
     "data": {
      "text/plain": "<Figure size 288x288 with 1 Axes>",
      "image/png": "[encoded data removed]"
     },
     "metadata": {
      "needs_background": "light"
     },
     "output_type": "display_data"
    }
   ],
   "source": [
    "plt.matshow(cm,cmap = plt.cm.gray)\n"
   ],
   "metadata": {
    "collapsed": false,
    "pycharm": {
     "name": "#%%\n",
     "is_executing": false
    }
   }
  },
  {
   "cell_type": "code",
   "execution_count": 20,
   "outputs": [
    {
     "data": {
      "text/plain": "array([59, 44, 54, 57, 69, 63, 43, 53, 53, 45], dtype=int64)"
     },
     "metadata": {},
     "output_type": "execute_result",
     "execution_count": 20
    }
   ],
   "source": [
    "a = np.sum(cm,axis=1)\n",
    "a"
   ],
   "metadata": {
    "collapsed": false,
    "pycharm": {
     "name": "#%%\n",
     "is_executing": false
    }
   }
  },
  {
   "cell_type": "code",
   "execution_count": 22,
   "outputs": [
    {
     "data": {
      "text/plain": "array([[1.        , 0.        , 0.        , 0.        , 0.        ,\n        0.        , 0.        , 0.        , 0.        , 0.        ],\n       [0.        , 0.95454545, 0.        , 0.01754386, 0.        ,\n        0.        , 0.        , 0.        , 0.01886792, 0.        ],\n       [0.        , 0.        , 1.        , 0.        , 0.        ,\n        0.        , 0.        , 0.        , 0.        , 0.        ],\n       [0.        , 0.        , 0.        , 0.98245614, 0.        ,\n        0.        , 0.        , 0.        , 0.01886792, 0.        ],\n       [0.        , 0.02272727, 0.        , 0.        , 0.95652174,\n        0.        , 0.02325581, 0.01886792, 0.        , 0.        ],\n       [0.        , 0.        , 0.        , 0.01754386, 0.        ,\n        0.92063492, 0.04651163, 0.01886792, 0.        , 0.02222222],\n       [0.        , 0.        , 0.        , 0.        , 0.        ,\n        0.        , 1.        , 0.        , 0.        , 0.        ],\n       [0.        , 0.        , 0.        , 0.01754386, 0.        ,\n        0.        , 0.        , 0.96226415, 0.        , 0.02222222],\n       [0.        , 0.15909091, 0.01851852, 0.        , 0.        ,\n        0.        , 0.        , 0.        , 0.8490566 , 0.        ],\n       [0.        , 0.02272727, 0.        , 0.        , 0.        ,\n        0.        , 0.        , 0.        , 0.        , 0.97777778]])"
     },
     "metadata": {},
     "output_type": "execute_result",
     "execution_count": 22
    }
   ],
   "source": [
    "errmatrix = cm/a\n",
    "errmatrix"
   ],
   "metadata": {
    "collapsed": false,
    "pycharm": {
     "name": "#%%\n",
     "is_executing": false
    }
   }
  },
  {
   "cell_type": "code",
   "execution_count": 23,
   "outputs": [
    {
     "data": {
      "text/plain": "array([[0.        , 0.        , 0.        , 0.        , 0.        ,\n        0.        , 0.        , 0.        , 0.        , 0.        ],\n       [0.        , 0.        , 0.        , 0.01754386, 0.        ,\n        0.        , 0.        , 0.        , 0.01886792, 0.        ],\n       [0.        , 0.        , 0.        , 0.        , 0.        ,\n        0.        , 0.        , 0.        , 0.        , 0.        ],\n       [0.        , 0.        , 0.        , 0.        , 0.        ,\n        0.        , 0.        , 0.        , 0.01886792, 0.        ],\n       [0.        , 0.02272727, 0.        , 0.        , 0.        ,\n        0.        , 0.02325581, 0.01886792, 0.        , 0.        ],\n       [0.        , 0.        , 0.        , 0.01754386, 0.        ,\n        0.        , 0.04651163, 0.01886792, 0.        , 0.02222222],\n       [0.        , 0.        , 0.        , 0.        , 0.        ,\n        0.        , 0.        , 0.        , 0.        , 0.        ],\n       [0.        , 0.        , 0.        , 0.01754386, 0.        ,\n        0.        , 0.        , 0.        , 0.        , 0.02222222],\n       [0.        , 0.15909091, 0.01851852, 0.        , 0.        ,\n        0.        , 0.        , 0.        , 0.        , 0.        ],\n       [0.        , 0.02272727, 0.        , 0.        , 0.        ,\n        0.        , 0.        , 0.        , 0.        , 0.        ]])"
     },
     "metadata": {},
     "output_type": "execute_result",
     "execution_count": 23
    }
   ],
   "source": [
    "errmatrix = cm/a\n",
    "errmatrix\n",
    "np.fill_diagonal(errmatrix,0)\n",
    "errmatrix\n",
    "\n"
   ],
   "metadata": {
    "collapsed": false,
    "pycharm": {
     "name": "#%%\n",
     "is_executing": false
    }
   }
  },
  {
   "cell_type": "code",
   "execution_count": 25,
   "outputs": [
    {
     "data": {
      "text/plain": "<matplotlib.image.AxesImage at 0x2242627f588>"
     },
     "metadata": {},
     "output_type": "execute_result",
     "execution_count": 25
    },
    {
     "data": {
      "text/plain": "<Figure size 288x288 with 1 Axes>",
      "image/png": "[encoded data removed]"
     },
     "metadata": {
      "needs_background": "light"
     },
     "output_type": "display_data"
    }
   ],
   "source": [
    "plt.matshow(errmatrix,cmap = plt.cm.gray)\n"
   ],
   "metadata": {
    "collapsed": false,
    "pycharm": {
     "name": "#%%\n",
     "is_executing": false
    }
   }
  },
  {
   "cell_type": "code",
   "execution_count": null,
   "outputs": [],
   "source": [
    "\n"
   ],
   "metadata": {
    "collapsed": false,
    "pycharm": {
     "name": "#%%\n"
    }
   }
  }
 ],
 "metadata": {
  "language_info": {
   "codemirror_mode": {
    "name": "ipython",
    "version": 2
   },
   "file_extension": ".py",
   "mimetype": "text/x-python",
   "name": "python",
   "nbconvert_exporter": "python",
   "pygments_lexer": "ipython2",
   "version": "2.7.6"
  },
  "kernelspec": {
   "name": "python3",
   "language": "python",
   "display_name": "Python 3"
  },
  "pycharm": {
   "stem_cell": {
    "cell_type": "raw",
    "source": [],
    "metadata": {
     "collapsed": false
    }
   }
  }
 },
 "nbformat": 4,
 "nbformat_minor": 0
}